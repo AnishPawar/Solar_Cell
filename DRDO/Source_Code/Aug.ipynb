{
 "cells": [
  {
   "cell_type": "code",
   "execution_count": 10,
   "metadata": {},
   "outputs": [],
   "source": [
    "import cv2\n",
    "import os\n",
    "import numpy as np\n",
    "import shutil"
   ]
  },
  {
   "cell_type": "code",
   "execution_count": 2,
   "metadata": {},
   "outputs": [],
   "source": [
    "\n",
    "import random\n",
    "\n",
    "img = cv2.imread('/Users/anishpawar/IITB/DRDO/Images/1536/140-164.png')\n",
    "def fill(img, h, w):\n",
    "    img = cv2.resize(img, (h, w), cv2.INTER_CUBIC)\n",
    "    return img\n",
    "        \n",
    "def horizontal_shift(img, ratio=0.0):\n",
    "    if ratio > 1 or ratio < 0:\n",
    "        print('Value should be less than 1 and greater than 0')\n",
    "        return img\n",
    "    ratio = random.uniform(-ratio, ratio)\n",
    "    h, w = img.shape[:2]\n",
    "    to_shift = w*ratio\n",
    "    if ratio > 0:\n",
    "        img = img[:, :int(w-to_shift), :]\n",
    "    if ratio < 0:\n",
    "        img = img[:, int(-1*to_shift):, :]\n",
    "    img = fill(img, h, w)\n",
    "    return img"
   ]
  },
  {
   "cell_type": "code",
   "execution_count": 3,
   "metadata": {},
   "outputs": [],
   "source": [
    "HS = horizontal_shift(img,0.7)"
   ]
  },
  {
   "cell_type": "code",
   "execution_count": 4,
   "metadata": {},
   "outputs": [],
   "source": [
    "def vertical_shift(img, ratio=0.0):\n",
    "    if ratio > 1 or ratio < 0:\n",
    "        print('Value should be less than 1 and greater than 0')\n",
    "        return img\n",
    "    ratio = random.uniform(-ratio, ratio)\n",
    "    h, w = img.shape[:2]\n",
    "    to_shift = h*ratio\n",
    "    if ratio > 0:\n",
    "        img = img[:int(h-to_shift), :, :]\n",
    "    if ratio < 0:\n",
    "        img = img[int(-1*to_shift):, :, :]\n",
    "    img = fill(img, h, w)\n",
    "    return img"
   ]
  },
  {
   "cell_type": "code",
   "execution_count": 5,
   "metadata": {},
   "outputs": [],
   "source": [
    "VS = vertical_shift(img,0.7)"
   ]
  },
  {
   "cell_type": "code",
   "execution_count": 6,
   "metadata": {},
   "outputs": [],
   "source": [
    "def brightness(img, low, high):\n",
    "    value = random.uniform(low, high)\n",
    "    hsv = cv2.cvtColor(img, cv2.COLOR_BGR2HSV)\n",
    "    hsv = np.array(hsv, dtype = np.float64)\n",
    "    hsv[:,:,1] = hsv[:,:,1]*value\n",
    "    hsv[:,:,1][hsv[:,:,1]>255]  = 255\n",
    "    hsv[:,:,2] = hsv[:,:,2]*value \n",
    "    hsv[:,:,2][hsv[:,:,2]>255]  = 255\n",
    "    hsv = np.array(hsv, dtype = np.uint8)\n",
    "    img = cv2.cvtColor(hsv, cv2.COLOR_HSV2BGR)\n",
    "    return img\n"
   ]
  },
  {
   "cell_type": "code",
   "execution_count": 7,
   "metadata": {},
   "outputs": [],
   "source": [
    "B= brightness(img,0.5,3)"
   ]
  },
  {
   "cell_type": "code",
   "execution_count": 8,
   "metadata": {},
   "outputs": [],
   "source": [
    "def zoom(img, value):\n",
    "    if value > 1 or value < 0:\n",
    "        print('Value for zoom should be less than 1 and greater than 0')\n",
    "        return img\n",
    "    value = random.uniform(value, 1)\n",
    "    h, w = img.shape[:2]\n",
    "    h_taken = int(value*h)\n",
    "    w_taken = int(value*w)\n",
    "    h_start = random.randint(0, h-h_taken)\n",
    "    w_start = random.randint(0, w-w_taken)\n",
    "    img = img[h_start:h_start+h_taken, w_start:w_start+w_taken, :]\n",
    "    img = fill(img, h, w)\n",
    "    return img"
   ]
  },
  {
   "cell_type": "code",
   "execution_count": 9,
   "metadata": {},
   "outputs": [],
   "source": [
    "Z = zoom(img,0.5)"
   ]
  },
  {
   "cell_type": "code",
   "execution_count": 10,
   "metadata": {},
   "outputs": [],
   "source": [
    "def rotation(img, angle):\n",
    "    angle = int(random.uniform(-angle, angle))\n",
    "    h, w = img.shape[:2]\n",
    "    M = cv2.getRotationMatrix2D((int(w/2), int(h/2)), angle, 1)\n",
    "    img = cv2.warpAffine(img, M, (w, h))\n",
    "    return img\n"
   ]
  },
  {
   "cell_type": "code",
   "execution_count": 11,
   "metadata": {},
   "outputs": [],
   "source": [
    "ROT = rotation(img,30)"
   ]
  },
  {
   "cell_type": "code",
   "execution_count": 12,
   "metadata": {},
   "outputs": [],
   "source": [
    "imgarr = [HS,VS,B,Z,ROT]\n",
    "for i in range(len(imgarr)):\n",
    "    cv2.imwrite(f'{i}.png',imgarr[i])"
   ]
  },
  {
   "cell_type": "code",
   "execution_count": 15,
   "metadata": {},
   "outputs": [],
   "source": [
    "import os\n",
    "src = '/Users/anishpawar/IITB/DRDO/Images/1536'\n",
    "dst = '/Users/anishpawar/IITB/DRDO/Images/1536_Aug'\n",
    "\n",
    "for i in os.listdir(src):\n",
    "    \n",
    "    img = cv2.imread(f'{src}/{i}')\n",
    "    cv2.imwrite(f'{dst}/{i}',img=img)\n",
    "    cv2.imwrite(f'{dst}/HS_{i}',img=horizontal_shift(img,0.7))\n",
    "    cv2.imwrite(f'{dst}/VS_{i}',img=vertical_shift(img,0.7))\n",
    "    cv2.imwrite(f'{dst}/B_{i}',img=brightness(img,0.5,3))\n",
    "    cv2.imwrite(f'{dst}/Z_{i}',img=zoom(img,0.5))\n",
    "    cv2.imwrite(f'{dst}/ROT_{i}',img=rotation(img,30))\n"
   ]
  },
  {
   "cell_type": "code",
   "execution_count": 3,
   "metadata": {},
   "outputs": [],
   "source": [
    "src = '/Users/anishpawar/IITB/DRDO/Images/1536_Aug/Images'\n",
    "\n",
    "\n",
    "dstTrainI = '/Users/anishpawar/IITB/DRDO/Images/1536_Aug/Dataset_Final/images/train'\n",
    "dstTestI = '/Users/anishpawar/IITB/DRDO/Images/1536_Aug/Dataset_Final/images/test'\n",
    "dstValI = '/Users/anishpawar/IITB/DRDO/Images/1536_Aug/Dataset_Final/images/val'\n",
    "\n",
    "dstTrainL = '/Users/anishpawar/IITB/DRDO/Images/1536_Aug/Dataset_Final/labels/train'\n",
    "dstTestL = '/Users/anishpawar/IITB/DRDO/Images/1536_Aug/Dataset_Final/labels/test'\n",
    "dstValL = '/Users/anishpawar/IITB/DRDO/Images/1536_Aug/Dataset_Final/labels/val'\n",
    "\n",
    "paths = os.listdir(src)\n",
    "\n"
   ]
  },
  {
   "cell_type": "code",
   "execution_count": 4,
   "metadata": {},
   "outputs": [
    {
     "data": {
      "text/plain": [
       "['B_2206915-B1.png',\n",
       " 'ASCOS-NEO.png',\n",
       " 'VS_VSCOS-V01.png',\n",
       " 'A12S2-7G.txt',\n",
       " 'ROT_ASCOS-NEO.png',\n",
       " 'Z_V2C02-NEU.txt',\n",
       " '2202897-VEDA-F4-B8.txt',\n",
       " 'VS_2202897-VEDA-F4-B7.png',\n",
       " 'HS_2202897-VEDA-F4-B7.png',\n",
       " 'VS_V2C02-NEK.png',\n",
       " 'HS_V2C02-NEU.txt',\n",
       " 'B_140-164.txt',\n",
       " 'ROT_A12S2-7G.png',\n",
       " 'VS_2206915-B1.txt',\n",
       " 'B_V2C02-NEU.png',\n",
       " 'VS_A12S2-7G.png',\n",
       " 'B_A12S2-7G.png',\n",
       " 'ROT_V2C02-NEU.png',\n",
       " 'VS_A212S2-5G.png',\n",
       " 'V2C02-NEU.png',\n",
       " 'B_ASCOS-NEO.png',\n",
       " 'VS_R-K4-B1-13-24R.png',\n",
       " 'Z_A12S2-7G.png',\n",
       " '2206915-B1.png',\n",
       " 'HS_ASCOS-NEO.txt',\n",
       " 'ROT_R-K4-B1-13-24R.png',\n",
       " 'A12S2-7G.png',\n",
       " 'Z_2202897-VEDA-F4-B8.png',\n",
       " 'ROT_ASCOS-NEO.txt',\n",
       " 'Z_V2C02-NEU.png',\n",
       " '2202897-VEDA-F4-B8.png',\n",
       " 'B_2206915-B1.txt',\n",
       " 'ASCOS-NEO.txt',\n",
       " 'VS_VSCOS-V01.txt',\n",
       " 'HS_R-K4-B1-13-24R.png',\n",
       " 'VS_2206915-B1.png',\n",
       " 'Z_R-K4-B1-13-24R.png',\n",
       " 'B_V2C02-NEU.txt',\n",
       " 'VS_V2C02-NEK.txt',\n",
       " 'B_140-164.png',\n",
       " 'HS_V2C02-NEU.png',\n",
       " '140-164.png',\n",
       " 'ROT_2202897-VEDA-F4-B7.png',\n",
       " 'ROT_A12S2-7G.txt',\n",
       " 'V2C02-NEU.txt',\n",
       " 'Z_ASCOS-NEO.png',\n",
       " 'VS_A12S2-7G.txt',\n",
       " 'B_A12S2-7G.txt',\n",
       " 'ROT_V2C02-NEU.txt',\n",
       " 'B_2202897-VEDA-F4-B7.png',\n",
       " '2206915-B1.txt',\n",
       " 'HS_ASCOS-NEO.png',\n",
       " 'B_ASCOS-NEO.txt',\n",
       " 'VS_R-K4-B1-13-24R.txt',\n",
       " 'Z_A12S2-7G.txt',\n",
       " 'B_R-K4-B1-13-24R.png',\n",
       " 'Z_V2C02-NEK.png',\n",
       " 'HS_VSCOS-V01.png',\n",
       " 'Z_VSCOS-V01.png',\n",
       " 'B_2202897-VEDA-F4-B8.png',\n",
       " 'A212S2-5G.txt',\n",
       " 'B_V2C02-NEK.txt',\n",
       " 'VS_V2C02-NEU.txt',\n",
       " 'ROT_A212S2-5G.txt',\n",
       " 'HS_V2C02-NEK.png',\n",
       " 'HS_2206915-B1.txt',\n",
       " 'V2C02-NEK.txt',\n",
       " 'B_A212S2-5G.txt',\n",
       " 'Z_140-164.png',\n",
       " 'ROT_140-164.png',\n",
       " 'Z_2202897-VEDA-F4-B7.png',\n",
       " 'Z_2206915-B1.png',\n",
       " '2202897-VEDA-F4-B7.png',\n",
       " 'VS_2202897-VEDA-F4-B8.txt',\n",
       " 'HS_A12S2-7G.png',\n",
       " 'ROT_V2C02-NEK.txt',\n",
       " 'HS_A212S2-5G.png',\n",
       " 'Z_A212S2-5G.png',\n",
       " 'ROT_2206915-B1.png',\n",
       " 'VSCOS-V01.txt',\n",
       " 'VS_ASCOS-NEO.txt',\n",
       " 'ROT_VSCOS-V01.txt',\n",
       " 'ROT_2202897-VEDA-F4-B8.png',\n",
       " 'VS_140-164.png',\n",
       " 'B_VSCOS-V01.png',\n",
       " 'ROT_A212S2-5G.png',\n",
       " 'VS_V2C02-NEU.png',\n",
       " 'HS_V2C02-NEK.txt',\n",
       " 'HS_2206915-B1.png',\n",
       " 'R-K4-B1-13-24R.png',\n",
       " 'Z_VSCOS-V01.txt',\n",
       " 'B_2202897-VEDA-F4-B8.txt',\n",
       " 'A212S2-5G.png',\n",
       " 'B_V2C02-NEK.png',\n",
       " 'HS_A12S2-7G.txt',\n",
       " 'ROT_V2C02-NEK.png',\n",
       " 'HS_A212S2-5G.txt',\n",
       " 'V2C02-NEK.png',\n",
       " 'B_A212S2-5G.png',\n",
       " 'Z_2206915-B1.txt',\n",
       " 'VS_2202897-VEDA-F4-B8.png',\n",
       " 'HS_2202897-VEDA-F4-B8.png',\n",
       " 'ROT_VSCOS-V01.png',\n",
       " 'ROT_2202897-VEDA-F4-B8.txt',\n",
       " 'Z_A212S2-5G.txt',\n",
       " 'HS_140-164.png',\n",
       " 'VSCOS-V01.png',\n",
       " 'VS_ASCOS-NEO.png']"
      ]
     },
     "execution_count": 4,
     "metadata": {},
     "output_type": "execute_result"
    }
   ],
   "source": [
    "paths"
   ]
  },
  {
   "cell_type": "code",
   "execution_count": 7,
   "metadata": {},
   "outputs": [],
   "source": [
    "labels = os.listdir('/Users/anishpawar/IITB/DRDO/Images/1536_Aug/Dataset_Final/labels/train')\n",
    "images = os.listdir('/Users/anishpawar/IITB/DRDO/Images/1536_Aug/Dataset_Final/images/train')\n",
    "\n",
    "validList = []\n",
    "\n",
    "for i in labels:\n",
    "    name = i.split('.')[0]\n",
    "    # print(name)\n",
    "    if f'{name}.png' in images:\n",
    "        validList.append(f'{name}.png')"
   ]
  },
  {
   "cell_type": "code",
   "execution_count": 8,
   "metadata": {},
   "outputs": [
    {
     "data": {
      "text/plain": [
       "35"
      ]
     },
     "execution_count": 8,
     "metadata": {},
     "output_type": "execute_result"
    }
   ],
   "source": [
    "len(validList)"
   ]
  },
  {
   "cell_type": "code",
   "execution_count": 11,
   "metadata": {},
   "outputs": [
    {
     "data": {
      "text/plain": [
       "['Z_V2C02-NEU.png',\n",
       " '2202897-VEDA-F4-B8.png',\n",
       " 'HS_V2C02-NEU.png',\n",
       " 'B_140-164.png',\n",
       " 'VS_2206915-B1.png',\n",
       " 'HS_ASCOS-NEO.png',\n",
       " 'ROT_ASCOS-NEO.png',\n",
       " 'B_2206915-B1.png',\n",
       " 'VS_VSCOS-V01.png',\n",
       " 'B_V2C02-NEU.png',\n",
       " 'VS_V2C02-NEK.png',\n",
       " 'ROT_A12S2-7G.png',\n",
       " 'V2C02-NEU.png',\n",
       " 'VS_A12S2-7G.png',\n",
       " 'ROT_V2C02-NEU.png',\n",
       " '2206915-B1.png',\n",
       " 'B_ASCOS-NEO.png',\n",
       " 'VS_R-K4-B1-13-24R.png',\n",
       " 'Z_A12S2-7G.png',\n",
       " 'B_V2C02-NEK.png',\n",
       " 'ROT_A212S2-5G.png',\n",
       " 'HS_2206915-B1.png',\n",
       " 'V2C02-NEK.png',\n",
       " 'B_A212S2-5G.png',\n",
       " 'VS_2202897-VEDA-F4-B8.png',\n",
       " 'ROT_V2C02-NEK.png',\n",
       " 'VSCOS-V01.png',\n",
       " 'VS_ASCOS-NEO.png',\n",
       " 'ROT_VSCOS-V01.png',\n",
       " 'HS_V2C02-NEK.png',\n",
       " 'Z_VSCOS-V01.png',\n",
       " 'HS_A12S2-7G.png',\n",
       " 'HS_A212S2-5G.png',\n",
       " 'ROT_2202897-VEDA-F4-B8.png',\n",
       " 'Z_A212S2-5G.png']"
      ]
     },
     "execution_count": 11,
     "metadata": {},
     "output_type": "execute_result"
    }
   ],
   "source": [
    "validList"
   ]
  },
  {
   "cell_type": "code",
   "execution_count": 9,
   "metadata": {},
   "outputs": [
    {
     "data": {
      "text/plain": [
       "60"
      ]
     },
     "execution_count": 9,
     "metadata": {},
     "output_type": "execute_result"
    }
   ],
   "source": [
    "len(images)"
   ]
  },
  {
   "cell_type": "code",
   "execution_count": 12,
   "metadata": {},
   "outputs": [],
   "source": [
    "for i in validList:\n",
    "    shutil.copy(f'/Users/anishpawar/IITB/DRDO/Images/1536_Aug/Dataset_Final/images/train/{i}','/Users/anishpawar/IITB/DRDO/Images/1536_Aug/Dataset_Final/extras/')"
   ]
  },
  {
   "cell_type": "code",
   "execution_count": 22,
   "metadata": {},
   "outputs": [
    {
     "name": "stdout",
     "output_type": "stream",
     "text": [
      "/Users/anishpawar/IITB/DRDO/Images/1536_Aug/img_test/test/ASCOS-NEO.png\n",
      "/Users/anishpawar/IITB/DRDO/Images/1536_Aug/img_test/test/B_A12S2-7G.png\n",
      "/Users/anishpawar/IITB/DRDO/Images/1536_Aug/img_test/test/.DS_Store\n",
      "/Users/anishpawar/IITB/DRDO/Images/1536_Aug/img_test/test/A12S2-7G.png\n",
      "/Users/anishpawar/IITB/DRDO/Images/1536_Aug/img_test/test/B_2202897-VEDA-F4-B8.png\n",
      "/Users/anishpawar/IITB/DRDO/Images/1536_Aug/img_test/test/A212S2-5G.png\n"
     ]
    }
   ],
   "source": [
    "base = '/Users/anishpawar/IITB/DRDO/Images/1536_Aug/img_test/test'\n",
    "for i in os.listdir(base):\n",
    "    try:\n",
    "        print(f'{base}/{i}')\n",
    "        img = cv2.imread(f'{base}/{i}')\n",
    "        # print(img.shape)\n",
    "        img = cv2.resize(img,(256,256))\n",
    "        cv2.imwrite(f'{base}/{i}',img=img)\n",
    "    except:\n",
    "        continue"
   ]
  },
  {
   "cell_type": "code",
   "execution_count": null,
   "metadata": {},
   "outputs": [],
   "source": []
  }
 ],
 "metadata": {
  "kernelspec": {
   "display_name": "base",
   "language": "python",
   "name": "python3"
  },
  "language_info": {
   "codemirror_mode": {
    "name": "ipython",
    "version": 3
   },
   "file_extension": ".py",
   "mimetype": "text/x-python",
   "name": "python",
   "nbconvert_exporter": "python",
   "pygments_lexer": "ipython3",
   "version": "3.9.13"
  },
  "orig_nbformat": 4
 },
 "nbformat": 4,
 "nbformat_minor": 2
}
